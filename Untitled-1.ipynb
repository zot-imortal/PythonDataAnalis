{
 "cells": [
  {
   "cell_type": "code",
   "execution_count": 264,
   "metadata": {},
   "outputs": [],
   "source": [
    "import pandas as pd\n",
    "import numpy as np\n",
    "import matplotlib.pyplot as plt\n",
    "import plotly.express as px\n",
    "from tabulate import tabulate\n"
   ]
  },
  {
   "cell_type": "code",
   "execution_count": 265,
   "metadata": {},
   "outputs": [],
   "source": [
    "d_parser = lambda x: pd.datetime.strptime(x, '%Y-%m-%d %I-%p')\n",
    "exel_file = 'Aggregation results.xlsx'"
   ]
  },
  {
   "cell_type": "code",
   "execution_count": 266,
   "metadata": {},
   "outputs": [],
   "source": [
    "exel_file2 = 'Wärmepumpen1.xlsx'\n",
    "exel_file3 = 'Emob.csv'\n",
    "require_cols = [0, 2,3, 5,6, 8,9]\n",
    "df = pd.read_excel(exel_file, sheet_name='Sheet1', usecols = require_cols)\n",
    "#require_cols2 = [0, 1]"
   ]
  },
  {
   "cell_type": "code",
   "execution_count": 267,
   "metadata": {},
   "outputs": [
    {
     "name": "stdout",
     "output_type": "stream",
     "text": [
      "                     Time    PV1   Cons1    PV2   Cons2  PV3   Cons3\n",
      "0     2023-01-16 00:15:00  0.000  37.140  0.000  53.408  0.0  29.383\n",
      "1     2023-01-16 00:30:00  0.001  37.236  0.000  55.492  0.0  28.874\n",
      "2     2023-01-16 00:45:00  0.004  35.971  0.000  52.028  0.0  27.917\n",
      "3     2023-01-16 01:00:00  0.000  36.104  0.000  48.976  0.0  26.497\n",
      "4     2023-01-16 01:15:00  0.000  33.916  0.000  60.829  0.0  34.614\n",
      "...                   ...    ...     ...    ...     ...  ...     ...\n",
      "13047 2023-05-31 23:00:00  0.009  25.724  0.006  35.322  0.0  19.023\n",
      "13048 2023-05-31 23:15:00  0.006  30.266  0.004  40.265  0.0  15.807\n",
      "13049 2023-05-31 23:30:00  0.011  30.306  0.015  34.233  0.0  11.566\n",
      "13050 2023-05-31 23:45:00  0.007  26.359  0.003  30.587  0.0  11.016\n",
      "13051 2023-06-01 00:00:00  0.004  23.166  0.028  28.055  0.0  11.101\n",
      "\n",
      "[13052 rows x 7 columns]\n"
     ]
    }
   ],
   "source": [
    "print(df)"
   ]
  },
  {
   "cell_type": "code",
   "execution_count": 268,
   "metadata": {},
   "outputs": [
    {
     "data": {
      "text/plain": [
       "2212.317"
      ]
     },
     "execution_count": 268,
     "metadata": {},
     "output_type": "execute_result"
    }
   ],
   "source": [
    "df_filtered = df[df['Time'].dt.strftime('%Y-%m-%d') == '2023-05-31']\n",
    "df_filtered['PV1'].sum()\n",
    "\n"
   ]
  },
  {
   "cell_type": "code",
   "execution_count": 269,
   "metadata": {},
   "outputs": [
    {
     "name": "stdout",
     "output_type": "stream",
     "text": [
      "0       2023-01-16 00:15:00\n",
      "1       2023-01-16 00:30:00\n",
      "2       2023-01-16 00:45:00\n",
      "3       2023-01-16 01:00:00\n",
      "4       2023-01-16 01:15:00\n",
      "                ...        \n",
      "13047   2023-05-31 23:00:00\n",
      "13048   2023-05-31 23:15:00\n",
      "13049   2023-05-31 23:30:00\n",
      "13050   2023-05-31 23:45:00\n",
      "13051   2023-06-01 00:00:00\n",
      "Name: Time, Length: 13052, dtype: datetime64[ns]\n",
      "False\n"
     ]
    }
   ],
   "source": [
    "df_time = df['Time']\n",
    "print(df_time)\n",
    "\n",
    "print(str(df_time)==\"2023-01-16 00:15:00\")\n",
    "\n",
    "\n",
    "    "
   ]
  },
  {
   "cell_type": "code",
   "execution_count": 270,
   "metadata": {},
   "outputs": [
    {
     "data": {
      "text/plain": [
       "2212.317"
      ]
     },
     "execution_count": 270,
     "metadata": {},
     "output_type": "execute_result"
    }
   ],
   "source": [
    "df[\"Time\"] = pd.to_datetime(df[\"Time\"])\n",
    "df['PV1'].groupby(df['Time'].dt.month).min()\n",
    "df['Time'].dt.day\n",
    "df['Time'].max()-df['Time'].min()# сума дней\n",
    "filt = (df['Time'] >= pd.to_datetime('2023-06-01'))#условие для нахождения определеного периода\n",
    "df.loc[filt].max()#нахождение по дням и нахождения максимума можно макс менять на мин или суму или среднее значение\n",
    "\n",
    "df_filtered = df[df['Time'].dt.strftime('%Y-%m-%d') == '2023-05-31' ]\n",
    "df_filtered['PV1'].sum()\n",
    "\n",
    "\n",
    "\n",
    "\n",
    "\n",
    "\n"
   ]
  },
  {
   "cell_type": "code",
   "execution_count": 271,
   "metadata": {},
   "outputs": [
    {
     "data": {
      "text/html": [
       "<div>\n",
       "<style scoped>\n",
       "    .dataframe tbody tr th:only-of-type {\n",
       "        vertical-align: middle;\n",
       "    }\n",
       "\n",
       "    .dataframe tbody tr th {\n",
       "        vertical-align: top;\n",
       "    }\n",
       "\n",
       "    .dataframe thead th {\n",
       "        text-align: right;\n",
       "    }\n",
       "</style>\n",
       "<table border=\"1\" class=\"dataframe\">\n",
       "  <thead>\n",
       "    <tr style=\"text-align: right;\">\n",
       "      <th></th>\n",
       "      <th>Time</th>\n",
       "      <th>PV1</th>\n",
       "      <th>Cons1</th>\n",
       "      <th>PV2</th>\n",
       "      <th>Cons2</th>\n",
       "      <th>PV3</th>\n",
       "      <th>Cons3</th>\n",
       "      <th>month</th>\n",
       "    </tr>\n",
       "  </thead>\n",
       "  <tbody>\n",
       "    <tr>\n",
       "      <th>0</th>\n",
       "      <td>2023-01-16 00:15:00</td>\n",
       "      <td>0.000</td>\n",
       "      <td>37.140</td>\n",
       "      <td>0.000</td>\n",
       "      <td>53.408</td>\n",
       "      <td>0.0</td>\n",
       "      <td>29.383</td>\n",
       "      <td>16</td>\n",
       "    </tr>\n",
       "    <tr>\n",
       "      <th>1</th>\n",
       "      <td>2023-01-16 00:30:00</td>\n",
       "      <td>0.001</td>\n",
       "      <td>37.236</td>\n",
       "      <td>0.000</td>\n",
       "      <td>55.492</td>\n",
       "      <td>0.0</td>\n",
       "      <td>28.874</td>\n",
       "      <td>16</td>\n",
       "    </tr>\n",
       "    <tr>\n",
       "      <th>2</th>\n",
       "      <td>2023-01-16 00:45:00</td>\n",
       "      <td>0.004</td>\n",
       "      <td>35.971</td>\n",
       "      <td>0.000</td>\n",
       "      <td>52.028</td>\n",
       "      <td>0.0</td>\n",
       "      <td>27.917</td>\n",
       "      <td>16</td>\n",
       "    </tr>\n",
       "    <tr>\n",
       "      <th>3</th>\n",
       "      <td>2023-01-16 01:00:00</td>\n",
       "      <td>0.000</td>\n",
       "      <td>36.104</td>\n",
       "      <td>0.000</td>\n",
       "      <td>48.976</td>\n",
       "      <td>0.0</td>\n",
       "      <td>26.497</td>\n",
       "      <td>16</td>\n",
       "    </tr>\n",
       "    <tr>\n",
       "      <th>4</th>\n",
       "      <td>2023-01-16 01:15:00</td>\n",
       "      <td>0.000</td>\n",
       "      <td>33.916</td>\n",
       "      <td>0.000</td>\n",
       "      <td>60.829</td>\n",
       "      <td>0.0</td>\n",
       "      <td>34.614</td>\n",
       "      <td>16</td>\n",
       "    </tr>\n",
       "    <tr>\n",
       "      <th>...</th>\n",
       "      <td>...</td>\n",
       "      <td>...</td>\n",
       "      <td>...</td>\n",
       "      <td>...</td>\n",
       "      <td>...</td>\n",
       "      <td>...</td>\n",
       "      <td>...</td>\n",
       "      <td>...</td>\n",
       "    </tr>\n",
       "    <tr>\n",
       "      <th>13047</th>\n",
       "      <td>2023-05-31 23:00:00</td>\n",
       "      <td>0.009</td>\n",
       "      <td>25.724</td>\n",
       "      <td>0.006</td>\n",
       "      <td>35.322</td>\n",
       "      <td>0.0</td>\n",
       "      <td>19.023</td>\n",
       "      <td>31</td>\n",
       "    </tr>\n",
       "    <tr>\n",
       "      <th>13048</th>\n",
       "      <td>2023-05-31 23:15:00</td>\n",
       "      <td>0.006</td>\n",
       "      <td>30.266</td>\n",
       "      <td>0.004</td>\n",
       "      <td>40.265</td>\n",
       "      <td>0.0</td>\n",
       "      <td>15.807</td>\n",
       "      <td>31</td>\n",
       "    </tr>\n",
       "    <tr>\n",
       "      <th>13049</th>\n",
       "      <td>2023-05-31 23:30:00</td>\n",
       "      <td>0.011</td>\n",
       "      <td>30.306</td>\n",
       "      <td>0.015</td>\n",
       "      <td>34.233</td>\n",
       "      <td>0.0</td>\n",
       "      <td>11.566</td>\n",
       "      <td>31</td>\n",
       "    </tr>\n",
       "    <tr>\n",
       "      <th>13050</th>\n",
       "      <td>2023-05-31 23:45:00</td>\n",
       "      <td>0.007</td>\n",
       "      <td>26.359</td>\n",
       "      <td>0.003</td>\n",
       "      <td>30.587</td>\n",
       "      <td>0.0</td>\n",
       "      <td>11.016</td>\n",
       "      <td>31</td>\n",
       "    </tr>\n",
       "    <tr>\n",
       "      <th>13051</th>\n",
       "      <td>2023-06-01 00:00:00</td>\n",
       "      <td>0.004</td>\n",
       "      <td>23.166</td>\n",
       "      <td>0.028</td>\n",
       "      <td>28.055</td>\n",
       "      <td>0.0</td>\n",
       "      <td>11.101</td>\n",
       "      <td>1</td>\n",
       "    </tr>\n",
       "  </tbody>\n",
       "</table>\n",
       "<p>13052 rows × 8 columns</p>\n",
       "</div>"
      ],
      "text/plain": [
       "                     Time    PV1   Cons1    PV2   Cons2  PV3   Cons3  month\n",
       "0     2023-01-16 00:15:00  0.000  37.140  0.000  53.408  0.0  29.383     16\n",
       "1     2023-01-16 00:30:00  0.001  37.236  0.000  55.492  0.0  28.874     16\n",
       "2     2023-01-16 00:45:00  0.004  35.971  0.000  52.028  0.0  27.917     16\n",
       "3     2023-01-16 01:00:00  0.000  36.104  0.000  48.976  0.0  26.497     16\n",
       "4     2023-01-16 01:15:00  0.000  33.916  0.000  60.829  0.0  34.614     16\n",
       "...                   ...    ...     ...    ...     ...  ...     ...    ...\n",
       "13047 2023-05-31 23:00:00  0.009  25.724  0.006  35.322  0.0  19.023     31\n",
       "13048 2023-05-31 23:15:00  0.006  30.266  0.004  40.265  0.0  15.807     31\n",
       "13049 2023-05-31 23:30:00  0.011  30.306  0.015  34.233  0.0  11.566     31\n",
       "13050 2023-05-31 23:45:00  0.007  26.359  0.003  30.587  0.0  11.016     31\n",
       "13051 2023-06-01 00:00:00  0.004  23.166  0.028  28.055  0.0  11.101      1\n",
       "\n",
       "[13052 rows x 8 columns]"
      ]
     },
     "execution_count": 271,
     "metadata": {},
     "output_type": "execute_result"
    }
   ],
   "source": [
    "df[\"month\"] = df[\"Time\"].dt.day \n",
    "df"
   ]
  },
  {
   "cell_type": "code",
   "execution_count": 272,
   "metadata": {},
   "outputs": [
    {
     "name": "stdout",
     "output_type": "stream",
     "text": [
      "PV1   2023-05-31\n",
      "dtype: datetime64[ns]\n"
     ]
    }
   ],
   "source": [
    "\n",
    "\n",
    "df.groupby([df[\"Time\"].dt.month ])[\"PV1\"].sum()\n",
    "df['Time'] = pd.to_datetime(df['Time'])\n",
    "#------Maska\n",
    "start_date = '2023-01-31'\n",
    "end_date = '2023-05-31'\n",
    "mask = (df['Time'] < start_date) \n",
    "#df = df.loc[mask]#-----------------maska\n",
    "#df.groupby(df['Time'].dt.normalize(), as_index=False).last()\n",
    "df32=df.set_index('Time').resample('D').sum()#расчитано и разбито по дням\n",
    "#df.set_index('Time').resample('D').sum()#расчитано и разбито по дням\n",
    "df32[['PV1']].idxmax()\n",
    "#df32\n",
    "df32.max()#Макс\n",
    "print(df32[['PV1']].idxmax())\n",
    "#df32.min()#Минимальное\n",
    "#df32.mean()# СРЕДНЕЕ "
   ]
  },
  {
   "cell_type": "code",
   "execution_count": 273,
   "metadata": {},
   "outputs": [
    {
     "data": {
      "image/png": "[encoded data removed]",
      "text/plain": [
       "<Figure size 1200x800 with 1 Axes>"
      ]
     },
     "metadata": {},
     "output_type": "display_data"
    }
   ],
   "source": [
    "fig, axs = plt.subplots(figsize=(12, 8))\n",
    "df.groupby(\n",
    "                    df[\"Time\"].dt.day)[\"PV2\"].sum().plot(kind='bar',\n",
    "                    rot=1,\n",
    "                    ax=axs)\n",
    "plt.xlabel(\"Hour of the day\");  # custom x label using matplotlib\n",
    "plt.ylabel(\"$PV$\");"
   ]
  }
 ],
 "metadata": {
  "kernelspec": {
   "display_name": "Python 3",
   "language": "python",
   "name": "python3"
  },
  "language_info": {
   "codemirror_mode": {
    "name": "ipython",
    "version": 3
   },
   "file_extension": ".py",
   "mimetype": "text/x-python",
   "name": "python",
   "nbconvert_exporter": "python",
   "pygments_lexer": "ipython3",
   "version": "3.11.5"
  },
  "orig_nbformat": 4
 },
 "nbformat": 4,
 "nbformat_minor": 2
}
